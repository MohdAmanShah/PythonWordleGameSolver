{
 "cells": [
  {
   "attachments": {},
   "cell_type": "markdown",
   "metadata": {},
   "source": [
    "# `Wordle Game`"
   ]
  },
  {
   "cell_type": "code",
   "execution_count": 34,
   "metadata": {},
   "outputs": [],
   "source": [
    "def Fetch_Data(filename):\n",
    "    '''\n",
    "    This function returns data from given file as np ndarray of text.\n",
    "    \\nFile can be file name of absolute/relative path to file.\n",
    "    '''\n",
    "    import numpy as np\n",
    "    data = np.loadtxt(filename, dtype='str')    \n",
    "    return data"
   ]
  },
  {
   "cell_type": "code",
   "execution_count": 35,
   "metadata": {},
   "outputs": [],
   "source": [
    "def Letter_Popularity(word_list):\n",
    "    '''\n",
    "    This function returns the count of each letter in the word list passed\n",
    "    '''\n",
    "    letter_popularity_ = {}\n",
    "    for word in word_list:\n",
    "        for letter in word:\n",
    "            letter_popularity_[letter] = letter_popularity_.get(letter,0) + 1\n",
    "    return letter_popularity_"
   ]
  },
  {
   "cell_type": "code",
   "execution_count": 36,
   "metadata": {},
   "outputs": [],
   "source": [
    "def Most_Popular_Word(word_list,letter_popularity):\n",
    "    '''\n",
    "    Function return the most popular word from the pass word list.\n",
    "    The most popular word is chosen based on the sum of popularity of each letter\n",
    "    '''\n",
    "    # letter_popularity = Letter_Popularity(word_list)\n",
    "    most_popular_word = ''\n",
    "    highest_popularity = 0\n",
    "    selected_word_popularity = 0\n",
    "    for word in word_list:\n",
    "        selected_word_popularity = 0\n",
    "        for letter in word:\n",
    "            selected_word_popularity += letter_popularity[letter]\n",
    "        if(selected_word_popularity > highest_popularity):\n",
    "            highest_popularity = selected_word_popularity\n",
    "            most_popular_word = word\n",
    "    return most_popular_word"
   ]
  },
  {
   "cell_type": "code",
   "execution_count": 37,
   "metadata": {},
   "outputs": [],
   "source": [
    "def Trim_by_length(word_list, required_length):\n",
    "    '''\n",
    "    Returns new word list with only words whose length is equal to\\ngiven required length.\\nThe word are selected from the given word list\n",
    "    If no such words are found, it returns empty list. \n",
    "    '''\n",
    "    new_word_list = []\n",
    "    for word in word_list:\n",
    "        if len(word) == required_length:\n",
    "            new_word_list.append(word)\n",
    "    return new_word_list"
   ]
  },
  {
   "cell_type": "code",
   "execution_count": 38,
   "metadata": {},
   "outputs": [],
   "source": [
    "def Grey(word_list,letter,characters_in_word):\n",
    "    new_word_list = []\n",
    "    for word in word_list:\n",
    "        if word.count(letter) <= characters_in_word.get(letter,0):\n",
    "            new_word_list.append(word)\n",
    "    return new_word_list"
   ]
  },
  {
   "cell_type": "code",
   "execution_count": 39,
   "metadata": {},
   "outputs": [],
   "source": [
    "def Orange(word_list,letter,position):\n",
    "    '''\n",
    "    This function removes all words from given word list\\nwhere the given letter don't exist or the given letter is at the given position.\n",
    "    '''\n",
    "    new_word_list = []\n",
    "    for word in word_list:\n",
    "        if letter in word and letter != word[position]:\n",
    "            new_word_list.append(word)\n",
    "    return new_word_list\n",
    "    "
   ]
  },
  {
   "cell_type": "code",
   "execution_count": 40,
   "metadata": {},
   "outputs": [],
   "source": [
    "def Green(word_list,letter,position):\n",
    "    new_word_list = []\n",
    "    for word in word_list:\n",
    "        if word[position] == letter:\n",
    "            new_word_list.append(word)\n",
    "    return new_word_list"
   ]
  },
  {
   "cell_type": "code",
   "execution_count": 41,
   "metadata": {},
   "outputs": [],
   "source": [
    "def Mark_Letters_In_Word(most_popular_word, response, characters_in_word):\n",
    "    letters_in_current_word = {}\n",
    "    for i in range(len(most_popular_word)):\n",
    "        if response[i] == '2' or response[i] == '1':\n",
    "            letters_in_current_word[most_popular_word[i]] = letters_in_current_word.get(most_popular_word[i],0) + 1\n",
    "    for letter in letters_in_current_word.keys():\n",
    "        if characters_in_word.get(letter,0) < letters_in_current_word[letter]:\n",
    "            characters_in_word[letter] = letters_in_current_word[letter]\n"
   ]
  },
  {
   "attachments": {},
   "cell_type": "markdown",
   "metadata": {},
   "source": [
    "# Codes used -- \n",
    "    Green - 2\n",
    "    Orange - 1 \n",
    "    Grey - 0"
   ]
  },
  {
   "cell_type": "code",
   "execution_count": 46,
   "metadata": {},
   "outputs": [],
   "source": [
    "import os\n",
    "import json\n",
    "file = open('index.json','r')\n",
    "# word_list = Fetch_Data('dictionary2.txt')\n",
    "word_list = json.load(file)\n",
    "required_length = int(input('Enter the length you want'))\n",
    "word_list = Trim_by_length(word_list, required_length)\n",
    "letter_popularity = Letter_Popularity(word_list)\n",
    "characters_in_word = {}\n",
    "while (True):\n",
    "    most_popular_word = Most_Popular_Word(word_list,letter_popularity)\n",
    "    response = str(\n",
    "        input('Word selected - {}\\nEnter your response'.format(most_popular_word)))\n",
    "    Mark_Letters_In_Word(most_popular_word, response, characters_in_word)\n",
    "    if len(response) == response.count('2'):\n",
    "        break\n",
    "    for i in range(len(response)):\n",
    "        if response[i] == '2':\n",
    "            word_list = Green(word_list, most_popular_word[i], i)\n",
    "        elif response[i] == '1':\n",
    "            word_list = Orange(word_list, most_popular_word[i], i)\n",
    "        elif response[i] == '0':\n",
    "            word_list = Grey(\n",
    "                word_list, most_popular_word[i], characters_in_word)\n",
    "    if len(response) == response.count('2'):\n",
    "        break\n",
    "file.close()"
   ]
  }
 ],
 "metadata": {
  "kernelspec": {
   "display_name": "Python 3",
   "language": "python",
   "name": "python3"
  },
  "language_info": {
   "codemirror_mode": {
    "name": "ipython",
    "version": 3
   },
   "file_extension": ".py",
   "mimetype": "text/x-python",
   "name": "python",
   "nbconvert_exporter": "python",
   "pygments_lexer": "ipython3",
   "version": "3.11.0"
  },
  "orig_nbformat": 4,
  "vscode": {
   "interpreter": {
    "hash": "5238573367df39f7286bb46f9ff5f08f63a01a80960060ce41e3c79b190280fa"
   }
  }
 },
 "nbformat": 4,
 "nbformat_minor": 2
}
